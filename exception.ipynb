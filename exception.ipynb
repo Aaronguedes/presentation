{
 "cells": [
  {
   "cell_type": "code",
   "execution_count": null,
   "metadata": {},
   "outputs": [],
   "source": [
    "path_raw_hosts = dbutils.jobs.taskValues.get(taskKey = f\"ing_resources-hosts\", key = \"ingestion_path\", default = 'error')\n",
    "path_raw_hosts_services = dbutils.jobs.taskValues.get(taskKey = f\"ing_resources-hosts_services\", key = \"ingestion_path\", default = 'error')"
   ]
  },
  {
   "cell_type": "code",
   "execution_count": null,
   "metadata": {},
   "outputs": [],
   "source": [
    "if path_raw_hosts == 'error' and path_raw_hosts_services == 'error':\n",
    "    pass\n",
    "else:\n",
    "    if path_raw_hosts != 'error':\n",
    "        dbutils.fs.rm(path_raw_hosts, True)\n",
    "    if path_raw_hosts_services != 'error':\n",
    "        dbutils.fs.rm(path_raw_hosts_services, True)"
   ]
  },
  {
   "cell_type": "code",
   "execution_count": null,
   "metadata": {},
   "outputs": [],
   "source": [
    "assert False, f\" path_raw_hosts: {'path not created' if path_raw_hosts == 'error' else path_raw_hosts}, path_raw_hosts_services: {'path not created' if path_raw_hosts_services == 'error' else path_raw_hosts_services}\""
   ]
  }
 ],
 "metadata": {
  "language_info": {
   "name": "python"
  }
 },
 "nbformat": 4,
 "nbformat_minor": 2
}
